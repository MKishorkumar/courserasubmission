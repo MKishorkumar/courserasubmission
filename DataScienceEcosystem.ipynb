{
  "metadata": {
    "kernelspec": {
      "name": "python",
      "display_name": "Python (Pyodide)",
      "language": "python"
    },
    "language_info": {
      "codemirror_mode": {
        "name": "python",
        "version": 3
      },
      "file_extension": ".py",
      "mimetype": "text/x-python",
      "name": "python",
      "nbconvert_exporter": "python",
      "pygments_lexer": "ipython3",
      "version": "3.8"
    }
  },
  "nbformat_minor": 4,
  "nbformat": 4,
  "cells": [
    {
      "cell_type": "markdown",
      "source": "# Data Science Tools and Ecosystem",
      "metadata": {}
    },
    {
      "cell_type": "markdown",
      "source": "In this notebook, Data Science Tools and Ecosystem are summarized.",
      "metadata": {}
    },
    {
      "cell_type": "markdown",
      "source": "Some of the popular languages that Data Scientists use are:\n\n1. Python: Widely popular due to its simplicity and readability, and has a lot of libraries available like Pandas, NumPy, Scikit-learn, TensorFlow, and Matplotlib.\n2. R: Known for its strong statistical analysis capabilities.\n3. Java\n4. SQL\n5. Other\n   1. Julia\n   2. Scala\n\n6.",
      "metadata": {}
    },
    {
      "cell_type": "markdown",
      "source": "Some of the commonly used libraries used by Data Scientists include:\n\n- Pandas\n- NumPy\n- Scikit-learn\n- TensorFlow\n- Matplotlib\n- Seaborn",
      "metadata": {}
    },
    {
      "cell_type": "markdown",
      "source": "| Data Science Tools       |\n|--------------------------|\n| Jupyter Notebook         |\n| RStudio                  |\n| VS Code                  |\n",
      "metadata": {}
    },
    {
      "cell_type": "markdown",
      "source": "### Below are a few examples of evaluating arithmetic expressions in Python",
      "metadata": {}
    },
    {
      "cell_type": "code",
      "source": "# This a simple arithmetic expression to mutiply then add integers\n(3*4)+5",
      "metadata": {
        "trusted": true
      },
      "outputs": [
        {
          "execution_count": 3,
          "output_type": "execute_result",
          "data": {
            "text/plain": "17"
          },
          "metadata": {}
        }
      ],
      "execution_count": 3
    },
    {
      "cell_type": "code",
      "source": "# This will convert 200 minutes to hours by diving by 60\n\ntmin = 200\nthrsf = 200 / 60\n\nthrs = 200 // 60\nrmin = 200 % 60\n\n# Print the result values\nprint(f\"200 minutes are equal to {thrsf} Hours OR  {thrs} Hours,  {rmin} minutes\")",
      "metadata": {
        "trusted": true
      },
      "outputs": [
        {
          "name": "stdout",
          "text": "200 minutes are equal to 3.3333333333333335 Hours OR  3 Hours,  20 minutes\n",
          "output_type": "stream"
        }
      ],
      "execution_count": 8
    },
    {
      "cell_type": "markdown",
      "source": "**Objectives:**\n- Create a Jupyter Notebook\n- Create markdown cell with title of the notebook\n- Create a markdown cell for an introduction\n- Create a markdown cell to list data science languages\n- Create a markdown cell to list data science libraries\n- Create a markdown cell with a table of Data Science tools\n- Create a markdown cell introducing arithmetic expression examples\n- Create a code cell to multiply and add numbers\n- Create a code cell to convert minutes to hours\n- Insert a markdown cell to list Objectives ",
      "metadata": {}
    },
    {
      "cell_type": "markdown",
      "source": "## Author\nKishor Kumar Mandapaka",
      "metadata": {}
    }
  ]
}